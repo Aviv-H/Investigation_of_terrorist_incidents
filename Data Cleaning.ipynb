{
 "cells": [
  {
   "cell_type": "markdown",
   "metadata": {},
   "source": [
    "# Data Cleaning"
   ]
  },
  {
   "cell_type": "code",
   "execution_count": 1,
   "metadata": {},
   "outputs": [],
   "source": [
    "import pandas as pd\n",
    "import numpy as np\n",
    "import matplotlib.pyplot as plt\n",
    "import seaborn as sns\n",
    "%matplotlib inline"
   ]
  },
  {
   "cell_type": "markdown",
   "metadata": {},
   "source": [
    "## Load the Data of Terrorism dataset"
   ]
  },
  {
   "cell_type": "code",
   "execution_count": 2,
   "metadata": {},
   "outputs": [],
   "source": [
    "df = pd.read_csv('data_of_terrorism.csv')\n",
    "df.drop('Unnamed: 0.1', inplace=True, axis=1)\n",
    "df.drop('Unnamed: 0', inplace=True, axis=1)\n",
    "df.drop('Part of Multiple Incident?', inplace=True, axis=1)"
   ]
  },
  {
   "cell_type": "code",
   "execution_count": 3,
   "metadata": {},
   "outputs": [
    {
     "name": "stdout",
     "output_type": "stream",
     "text": [
      "<class 'pandas.core.frame.DataFrame'>\n",
      "RangeIndex: 30000 entries, 0 to 29999\n",
      "Data columns (total 28 columns):\n",
      "CITY                                         30000 non-null object\n",
      "COUNTRY                                      30000 non-null object\n",
      "Claimed Responsibility                       30000 non-null object\n",
      "DATE                                         30000 non-null object\n",
      "FATALITIES                                   30000 non-null object\n",
      "Group Name of Perpetrator Group              30000 non-null object\n",
      "Group Sub Name of Perpetrator Group          30000 non-null object\n",
      "Hostages                                     30000 non-null object\n",
      "INJURED                                      30000 non-null object\n",
      "LOCATION DETAILS                             30000 non-null object\n",
      "Name of Entity                               30000 non-null object\n",
      "Nationality of Target                        30000 non-null object\n",
      "Number of Perpetrator Fatalities             30000 non-null object\n",
      "Number of Perpetrators                       30000 non-null object\n",
      "PERPETRATOR GROUP                            30000 non-null object\n",
      "PROVINCE/ADMINISTRATIVE REGION/U.S. STATE    30000 non-null object\n",
      "Property Damage                              30000 non-null object\n",
      "Ransom                                       30000 non-null object\n",
      "Region                                       30000 non-null object\n",
      "Specific Description                         30000 non-null object\n",
      "Successful Attack?                           30000 non-null object\n",
      "Suicide_Attack                               30000 non-null object\n",
      "TARGET TYPE                                  30000 non-null object\n",
      "Total Number of Fatalities                   30000 non-null object\n",
      "Total Number of Injured                      30000 non-null object\n",
      "Type of Attack                               30000 non-null object\n",
      "Weapon Sub_type                              30000 non-null object\n",
      "Weapon Type                                  30000 non-null object\n",
      "dtypes: object(28)\n",
      "memory usage: 6.4+ MB\n"
     ]
    }
   ],
   "source": [
    "df.info()"
   ]
  },
  {
   "cell_type": "code",
   "execution_count": 4,
   "metadata": {},
   "outputs": [],
   "source": [
    "df = df.replace('Unknown', np.nan)"
   ]
  },
  {
   "cell_type": "code",
   "execution_count": 5,
   "metadata": {},
   "outputs": [
    {
     "name": "stdout",
     "output_type": "stream",
     "text": [
      "<class 'pandas.core.frame.DataFrame'>\n",
      "RangeIndex: 30000 entries, 0 to 29999\n",
      "Data columns (total 28 columns):\n",
      "CITY                                         28173 non-null object\n",
      "COUNTRY                                      30000 non-null object\n",
      "Claimed Responsibility                       30000 non-null object\n",
      "DATE                                         30000 non-null object\n",
      "FATALITIES                                   27985 non-null object\n",
      "Group Name of Perpetrator Group              15252 non-null object\n",
      "Group Sub Name of Perpetrator Group          1261 non-null object\n",
      "Hostages                                     29963 non-null object\n",
      "INJURED                                      27017 non-null object\n",
      "LOCATION DETAILS                             13435 non-null object\n",
      "Name of Entity                               23581 non-null object\n",
      "Nationality of Target                        29847 non-null object\n",
      "Number of Perpetrator Fatalities             29275 non-null object\n",
      "Number of Perpetrators                       3620 non-null object\n",
      "PERPETRATOR GROUP                            15252 non-null object\n",
      "PROVINCE/ADMINISTRATIVE REGION/U.S. STATE    29797 non-null object\n",
      "Property Damage                              22331 non-null object\n",
      "Ransom                                       29928 non-null object\n",
      "Region                                       30000 non-null object\n",
      "Specific Description                         27872 non-null object\n",
      "Successful Attack?                           30000 non-null object\n",
      "Suicide_Attack                               30000 non-null object\n",
      "TARGET TYPE                                  27872 non-null object\n",
      "Total Number of Fatalities                   27985 non-null object\n",
      "Total Number of Injured                      27017 non-null object\n",
      "Type of Attack                               27966 non-null object\n",
      "Weapon Sub_type                              26473 non-null object\n",
      "Weapon Type                                  26605 non-null object\n",
      "dtypes: object(28)\n",
      "memory usage: 6.4+ MB\n"
     ]
    }
   ],
   "source": [
    "df.info()"
   ]
  },
  {
   "cell_type": "code",
   "execution_count": 6,
   "metadata": {},
   "outputs": [
    {
     "name": "stdout",
     "output_type": "stream",
     "text": [
      "Inside the data table there are 1386 duplicates\n"
     ]
    }
   ],
   "source": [
    "print(\"Inside the data table there are\", df.duplicated().sum() ,\"duplicates\")"
   ]
  },
  {
   "cell_type": "code",
   "execution_count": 7,
   "metadata": {},
   "outputs": [],
   "source": [
    "df = df.drop_duplicates().reset_index(drop=True).copy()"
   ]
  },
  {
   "cell_type": "code",
   "execution_count": 8,
   "metadata": {},
   "outputs": [
    {
     "data": {
      "text/plain": [
       "(28614, 28)"
      ]
     },
     "execution_count": 8,
     "metadata": {},
     "output_type": "execute_result"
    }
   ],
   "source": [
    "df.shape"
   ]
  },
  {
   "cell_type": "markdown",
   "metadata": {},
   "source": [
    "### Check the amount of missing values in each column"
   ]
  },
  {
   "cell_type": "code",
   "execution_count": 9,
   "metadata": {},
   "outputs": [
    {
     "name": "stdout",
     "output_type": "stream",
     "text": [
      "in column CITY there are 6.060% missing values\n",
      "in column COUNTRY there are 0.000% missing values\n",
      "in column Claimed Responsibility there are 0.000% missing values\n",
      "in column DATE there are 0.000% missing values\n",
      "in column FATALITIES there are 6.790% missing values\n",
      "in column Group Name of Perpetrator Group there are 48.948% missing values\n",
      "in column Group Sub Name of Perpetrator Group there are 95.645% missing values\n",
      "in column Hostages there are 0.101% missing values\n",
      "in column INJURED there are 10.128% missing values\n",
      "in column LOCATION DETAILS there are 54.033% missing values\n",
      "in column Name of Entity there are 20.619% missing values\n",
      "in column Nationality of Target there are 0.531% missing values\n",
      "in column Number of Perpetrator Fatalities there are 2.523% missing values\n",
      "in column Number of Perpetrators there are 87.471% missing values\n",
      "in column PERPETRATOR GROUP there are 48.948% missing values\n",
      "in column PROVINCE/ADMINISTRATIVE REGION/U.S. STATE there are 0.706% missing values\n",
      "in column Property Damage there are 26.518% missing values\n",
      "in column Ransom there are 0.252% missing values\n",
      "in column Region there are 0.000% missing values\n",
      "in column Specific Description there are 6.193% missing values\n",
      "in column Successful Attack? there are 0.000% missing values\n",
      "in column Suicide_Attack there are 0.000% missing values\n",
      "in column TARGET TYPE there are 6.193% missing values\n",
      "in column Total Number of Fatalities there are 6.790% missing values\n",
      "in column Total Number of Injured there are 10.128% missing values\n",
      "in column Type of Attack there are 6.958% missing values\n",
      "in column Weapon Sub_type there are 11.984% missing values\n",
      "in column Weapon Type there are 11.536% missing values\n"
     ]
    }
   ],
   "source": [
    "for c in df.columns:\n",
    "    missing = df[c].isna().sum()\n",
    "    print(\"in column {} there are {:.3f}% missing values\".format(c, missing*100/len(df)))"
   ]
  },
  {
   "cell_type": "markdown",
   "metadata": {},
   "source": [
    "### Create dictionary of terrorist cities"
   ]
  },
  {
   "cell_type": "code",
   "execution_count": 10,
   "metadata": {},
   "outputs": [
    {
     "data": {
      "text/plain": [
       "{'Algeria': 'Bordj Menaiel',\n",
       " 'Bahrain': 'Demistan',\n",
       " 'Egypt': 'Arish',\n",
       " 'Iran': 'Zabol',\n",
       " 'Iraq': 'Mosul',\n",
       " 'Israel': 'Afula',\n",
       " 'Jordan': 'Maan',\n",
       " 'Kuwait': 'Kuwait',\n",
       " 'Lebanon': 'Jlala',\n",
       " 'Libya': 'Benghazi',\n",
       " 'Morocco': 'Casablanca',\n",
       " 'Qatar': 'Doha',\n",
       " 'Saudi Arabia': 'Hafr al-Batin',\n",
       " 'Syria': 'Damascus',\n",
       " 'Tunisia': 'Sousse',\n",
       " 'Turkey': 'Cizre',\n",
       " 'United Arab Emirates': 'Abu Dhabi',\n",
       " 'West Bank and Gaza Strip': 'Huwwara',\n",
       " 'Western Sahara': 'Tifariti',\n",
       " 'Yemen': 'Ahwar'}"
      ]
     },
     "execution_count": 10,
     "metadata": {},
     "output_type": "execute_result"
    }
   ],
   "source": [
    "Terrorist_cities = dict()\n",
    "for row in range(df.shape[0]):\n",
    "    if (type(df.CITY[row]) ==  type(\"string\")):                                    #   df.CITY[row] != np.nan\n",
    "        Terrorist_cities.update({df.COUNTRY[row] : df.CITY[row]})\n",
    "Terrorist_cities\n",
    "        "
   ]
  },
  {
   "cell_type": "code",
   "execution_count": 11,
   "metadata": {},
   "outputs": [],
   "source": [
    "for row in range(df.shape[0]):\n",
    "    if (type(df.CITY[row]) !=  type(\"string\")):                                       #   df.CITY[row] == np.nan\n",
    "        df.CITY[row] = Terrorist_cities[df.COUNTRY[row]]\n",
    "        "
   ]
  },
  {
   "cell_type": "code",
   "execution_count": 12,
   "metadata": {},
   "outputs": [],
   "source": [
    "df =df.drop(columns=['Total Number of Fatalities','Total Number of Injured','Number of Perpetrators',\"Group Sub Name of Perpetrator Group\"])\n"
   ]
  },
  {
   "cell_type": "code",
   "execution_count": 13,
   "metadata": {},
   "outputs": [],
   "source": [
    "replace_map = {'No':0, 'Yes':1}"
   ]
  },
  {
   "cell_type": "code",
   "execution_count": 14,
   "metadata": {},
   "outputs": [],
   "source": [
    "df.Hostages.replace(replace_map,inplace = True)"
   ]
  },
  {
   "cell_type": "code",
   "execution_count": 15,
   "metadata": {},
   "outputs": [],
   "source": [
    "df.Hostages = df.Hostages.fillna(df.Hostages.mode()[0])"
   ]
  },
  {
   "cell_type": "code",
   "execution_count": 16,
   "metadata": {},
   "outputs": [],
   "source": [
    "df.Ransom.replace(replace_map,inplace = True)"
   ]
  },
  {
   "cell_type": "code",
   "execution_count": 17,
   "metadata": {},
   "outputs": [],
   "source": [
    "df.Ransom = df.Ransom.fillna(df.Ransom.mode()[0])"
   ]
  },
  {
   "cell_type": "code",
   "execution_count": 18,
   "metadata": {},
   "outputs": [],
   "source": [
    "df[\"Property Damage\"].replace(replace_map,inplace = True)"
   ]
  },
  {
   "cell_type": "code",
   "execution_count": 19,
   "metadata": {},
   "outputs": [],
   "source": [
    "df[\"Property Damage\"] = df[\"Property Damage\"].fillna(df[\"Property Damage\"].mode()[0])"
   ]
  },
  {
   "cell_type": "code",
   "execution_count": 20,
   "metadata": {},
   "outputs": [],
   "source": [
    "df.FATALITIES = df.FATALITIES.fillna(df.FATALITIES.median())"
   ]
  },
  {
   "cell_type": "code",
   "execution_count": 21,
   "metadata": {},
   "outputs": [],
   "source": [
    "df.INJURED  = df.INJURED.fillna(df.INJURED.median())"
   ]
  },
  {
   "cell_type": "code",
   "execution_count": 22,
   "metadata": {},
   "outputs": [],
   "source": [
    "df['Number of Perpetrator Fatalities'] = df['Number of Perpetrator Fatalities'].fillna(df['Number of Perpetrator Fatalities'].median())"
   ]
  },
  {
   "cell_type": "code",
   "execution_count": 23,
   "metadata": {},
   "outputs": [],
   "source": [
    "df[\"TARGET TYPE\"] = df[\"TARGET TYPE\"].fillna(df[\"TARGET TYPE\"].mode()[0])"
   ]
  },
  {
   "cell_type": "code",
   "execution_count": 24,
   "metadata": {},
   "outputs": [
    {
     "name": "stderr",
     "output_type": "stream",
     "text": [
      "C:\\Anaconda3\\envs\\py35\\lib\\site-packages\\ipykernel_launcher.py:4: SettingWithCopyWarning: \n",
      "A value is trying to be set on a copy of a slice from a DataFrame\n",
      "\n",
      "See the caveats in the documentation: http://pandas.pydata.org/pandas-docs/stable/indexing.html#indexing-view-versus-copy\n",
      "  after removing the cwd from sys.path.\n"
     ]
    }
   ],
   "source": [
    "\n",
    "for row in range(df.shape[0]):\n",
    "    if ( type(df[\"Nationality of Target\"][row]) != type(\"string\")):                                       #   df[\"Nationality of Target\"][row] == np.nan\n",
    "        df[\"Nationality of Target\"][row] = df.COUNTRY[row]\n",
    "\n",
    "# df[\"Nationality of Target\"][row] = df[\"Nationality of Target\"].fillna(df.COUNTRY[row])"
   ]
  },
  {
   "cell_type": "code",
   "execution_count": 25,
   "metadata": {},
   "outputs": [],
   "source": [
    "df[\"Specific Description\"] = df[\"Specific Description\"].fillna(df[\"Specific Description\"].mode()[0])"
   ]
  },
  {
   "cell_type": "code",
   "execution_count": 26,
   "metadata": {},
   "outputs": [],
   "source": [
    "df[\"Property Damage\"] = df[\"Property Damage\"].fillna(df[\"Property Damage\"].mode()[0])"
   ]
  },
  {
   "cell_type": "code",
   "execution_count": 27,
   "metadata": {},
   "outputs": [],
   "source": [
    "df[\"Name of Entity\"] = df[\"Name of Entity\"].fillna(df[\"Name of Entity\"].mode()[0])"
   ]
  },
  {
   "cell_type": "code",
   "execution_count": 28,
   "metadata": {},
   "outputs": [],
   "source": [
    "df[\"Type of Attack\"] = df[\"Type of Attack\"].fillna(df[\"Type of Attack\"].mode()[0])"
   ]
  },
  {
   "cell_type": "code",
   "execution_count": 29,
   "metadata": {},
   "outputs": [],
   "source": [
    "df[\"Weapon Sub_type\"] = df[\"Weapon Sub_type\"].fillna(df[\"Weapon Sub_type\"].mode()[0])"
   ]
  },
  {
   "cell_type": "code",
   "execution_count": 30,
   "metadata": {},
   "outputs": [],
   "source": [
    "df[\"Weapon Type\"] = df[\"Weapon Type\"].fillna(df[\"Weapon Type\"].mode()[0])"
   ]
  },
  {
   "cell_type": "code",
   "execution_count": 31,
   "metadata": {},
   "outputs": [
    {
     "name": "stderr",
     "output_type": "stream",
     "text": [
      "C:\\Anaconda3\\envs\\py35\\lib\\site-packages\\ipykernel_launcher.py:3: SettingWithCopyWarning: \n",
      "A value is trying to be set on a copy of a slice from a DataFrame\n",
      "\n",
      "See the caveats in the documentation: http://pandas.pydata.org/pandas-docs/stable/indexing.html#indexing-view-versus-copy\n",
      "  This is separate from the ipykernel package so we can avoid doing imports until\n"
     ]
    }
   ],
   "source": [
    "for row in range(df.shape[0]):\n",
    "    if ( type(df[\"PROVINCE/ADMINISTRATIVE REGION/U.S. STATE\"][row]) != type(\"string\")):                                       #   df[\"Nationality of Target\"][row] == np.nan\n",
    "        df[\"PROVINCE/ADMINISTRATIVE REGION/U.S. STATE\"][row] = df.COUNTRY[row]"
   ]
  },
  {
   "cell_type": "code",
   "execution_count": 32,
   "metadata": {},
   "outputs": [
    {
     "name": "stdout",
     "output_type": "stream",
     "text": [
      "<class 'pandas.core.frame.DataFrame'>\n",
      "RangeIndex: 28614 entries, 0 to 28613\n",
      "Data columns (total 24 columns):\n",
      "CITY                                         28614 non-null object\n",
      "COUNTRY                                      28614 non-null object\n",
      "Claimed Responsibility                       28614 non-null object\n",
      "DATE                                         28614 non-null object\n",
      "FATALITIES                                   28614 non-null object\n",
      "Group Name of Perpetrator Group              14608 non-null object\n",
      "Hostages                                     28614 non-null float64\n",
      "INJURED                                      28614 non-null object\n",
      "LOCATION DETAILS                             13153 non-null object\n",
      "Name of Entity                               28614 non-null object\n",
      "Nationality of Target                        28614 non-null object\n",
      "Number of Perpetrator Fatalities             28614 non-null object\n",
      "PERPETRATOR GROUP                            14608 non-null object\n",
      "PROVINCE/ADMINISTRATIVE REGION/U.S. STATE    28614 non-null object\n",
      "Property Damage                              28614 non-null float64\n",
      "Ransom                                       28614 non-null float64\n",
      "Region                                       28614 non-null object\n",
      "Specific Description                         28614 non-null object\n",
      "Successful Attack?                           28614 non-null object\n",
      "Suicide_Attack                               28614 non-null object\n",
      "TARGET TYPE                                  28614 non-null object\n",
      "Type of Attack                               28614 non-null object\n",
      "Weapon Sub_type                              28614 non-null object\n",
      "Weapon Type                                  28614 non-null object\n",
      "dtypes: float64(3), object(21)\n",
      "memory usage: 5.2+ MB\n"
     ]
    }
   ],
   "source": [
    "df.info()"
   ]
  },
  {
   "cell_type": "code",
   "execution_count": 33,
   "metadata": {},
   "outputs": [],
   "source": [
    "df.to_csv('data_of_terrorism_after_cleaning.csv')\n"
   ]
  },
  {
   "cell_type": "code",
   "execution_count": null,
   "metadata": {},
   "outputs": [],
   "source": []
  }
 ],
 "metadata": {
  "kernelspec": {
   "display_name": "Python 3",
   "language": "python",
   "name": "python3"
  },
  "language_info": {
   "codemirror_mode": {
    "name": "ipython",
    "version": 3
   },
   "file_extension": ".py",
   "mimetype": "text/x-python",
   "name": "python",
   "nbconvert_exporter": "python",
   "pygments_lexer": "ipython3",
   "version": "3.5.5"
  }
 },
 "nbformat": 4,
 "nbformat_minor": 2
}
